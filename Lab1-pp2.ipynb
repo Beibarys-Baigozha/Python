{
 "cells": [
  {
   "cell_type": "markdown",
   "id": "fda2db91",
   "metadata": {},
   "source": [
    "Syntax_ex1\n"
   ]
  },
  {
   "cell_type": "code",
   "execution_count": 2,
   "id": "06c6d1c4",
   "metadata": {
    "scrolled": true
   },
   "outputs": [
    {
     "name": "stdout",
     "output_type": "stream",
     "text": [
      "Hello World\n"
     ]
    }
   ],
   "source": [
    "print(\"Hello World\")"
   ]
  },
  {
   "cell_type": "markdown",
   "id": "405f57fa",
   "metadata": {},
   "source": [
    "Syntax_ex2\n"
   ]
  },
  {
   "cell_type": "code",
   "execution_count": 4,
   "id": "0d913270",
   "metadata": {},
   "outputs": [
    {
     "name": "stdout",
     "output_type": "stream",
     "text": [
      "Five is greater than two!\n"
     ]
    }
   ],
   "source": [
    "if 5 > 2:\n",
    "    print(\"Five is greater than two!\")"
   ]
  },
  {
   "cell_type": "markdown",
   "id": "c834b7aa",
   "metadata": {},
   "source": [
    "Comments_ex1\n"
   ]
  },
  {
   "cell_type": "code",
   "execution_count": 5,
   "id": "2df4af91",
   "metadata": {},
   "outputs": [],
   "source": [
    "#This is a comment"
   ]
  },
  {
   "cell_type": "markdown",
   "id": "5fab123e",
   "metadata": {},
   "source": [
    "Comments_ex2\n"
   ]
  },
  {
   "cell_type": "code",
   "execution_count": 6,
   "id": "99338056",
   "metadata": {},
   "outputs": [
    {
     "data": {
      "text/plain": [
       "'\\nThis is a comment\\nwritten in\\nmore than just one line\\n'"
      ]
     },
     "execution_count": 6,
     "metadata": {},
     "output_type": "execute_result"
    }
   ],
   "source": [
    "\"\"\"\n",
    "This is a comment\n",
    "written in\n",
    "more than just one line\n",
    "\"\"\""
   ]
  },
  {
   "cell_type": "markdown",
   "id": "6d03a1bd",
   "metadata": {},
   "source": [
    "Variables_ex1\n"
   ]
  },
  {
   "cell_type": "code",
   "execution_count": 7,
   "id": "36e9b0b2",
   "metadata": {},
   "outputs": [],
   "source": [
    "carname = \"Volvo\""
   ]
  },
  {
   "cell_type": "markdown",
   "id": "e45ed84e",
   "metadata": {},
   "source": [
    "Variables_ex2\n"
   ]
  },
  {
   "cell_type": "code",
   "execution_count": 8,
   "id": "9522da55",
   "metadata": {},
   "outputs": [],
   "source": [
    "x = 50"
   ]
  },
  {
   "cell_type": "markdown",
   "id": "13faf38e",
   "metadata": {},
   "source": [
    "Variables_ex3\n"
   ]
  },
  {
   "cell_type": "code",
   "execution_count": 10,
   "id": "13228af9",
   "metadata": {},
   "outputs": [
    {
     "name": "stdout",
     "output_type": "stream",
     "text": [
      "15\n"
     ]
    }
   ],
   "source": [
    "x = 5\n",
    "y = 10\n",
    "print(x+y)"
   ]
  },
  {
   "cell_type": "markdown",
   "id": "ad09dae7",
   "metadata": {},
   "source": [
    "Variables_ex4"
   ]
  },
  {
   "cell_type": "code",
   "execution_count": 11,
   "id": "e69702e4",
   "metadata": {},
   "outputs": [
    {
     "name": "stdout",
     "output_type": "stream",
     "text": [
      "15\n"
     ]
    }
   ],
   "source": [
    "x = 5\n",
    "y = 10\n",
    "z = x + y\n",
    "print(z)"
   ]
  },
  {
   "cell_type": "markdown",
   "id": "47509178",
   "metadata": {},
   "source": [
    "Variables_ex5"
   ]
  },
  {
   "cell_type": "code",
   "execution_count": 12,
   "id": "2b47cfc2",
   "metadata": {},
   "outputs": [],
   "source": [
    "myfirst_name = \"John\""
   ]
  },
  {
   "cell_type": "markdown",
   "id": "2533ad4f",
   "metadata": {},
   "source": [
    "Variables_ex6\n"
   ]
  },
  {
   "cell_type": "code",
   "execution_count": 13,
   "id": "347e1bc9",
   "metadata": {},
   "outputs": [],
   "source": [
    "x = y = z = \"Orange\""
   ]
  },
  {
   "cell_type": "markdown",
   "id": "e4cd427e",
   "metadata": {},
   "source": [
    "Variables_ex7\n"
   ]
  },
  {
   "cell_type": "code",
   "execution_count": 14,
   "id": "9bbf30ba",
   "metadata": {},
   "outputs": [],
   "source": [
    "def myfunc():\n",
    "    global x\n",
    "    x = \"fantastic\""
   ]
  },
  {
   "cell_type": "markdown",
   "id": "0bf23917",
   "metadata": {},
   "source": [
    "Data_types_ex1\n"
   ]
  },
  {
   "cell_type": "code",
   "execution_count": 16,
   "id": "8eaa444c",
   "metadata": {},
   "outputs": [
    {
     "name": "stdout",
     "output_type": "stream",
     "text": [
      "<class 'int'>\n"
     ]
    }
   ],
   "source": [
    "x = 5\n",
    "print(type(x))\n",
    "\n",
    "#Output should be: int"
   ]
  },
  {
   "cell_type": "markdown",
   "id": "38b0e298",
   "metadata": {},
   "source": [
    "Data_types_ex2\n"
   ]
  },
  {
   "cell_type": "code",
   "execution_count": 17,
   "id": "68dd9fa5",
   "metadata": {},
   "outputs": [
    {
     "name": "stdout",
     "output_type": "stream",
     "text": [
      "<class 'str'>\n"
     ]
    }
   ],
   "source": [
    "x = \"Hello World\"\n",
    "print(type(x))\n",
    "\n",
    "#Output should be: str"
   ]
  },
  {
   "cell_type": "markdown",
   "id": "0bbcaf83",
   "metadata": {},
   "source": [
    "Data_types_ex3\n"
   ]
  },
  {
   "cell_type": "code",
   "execution_count": 18,
   "id": "35402c1c",
   "metadata": {},
   "outputs": [
    {
     "name": "stdout",
     "output_type": "stream",
     "text": [
      "<class 'float'>\n"
     ]
    }
   ],
   "source": [
    "x = 20.5\n",
    "print(type(x))\n",
    "\n",
    "#Output should be: float"
   ]
  },
  {
   "cell_type": "markdown",
   "id": "9bdb667e",
   "metadata": {},
   "source": [
    "Data_types_ex4"
   ]
  },
  {
   "cell_type": "code",
   "execution_count": 19,
   "id": "0d6299b8",
   "metadata": {},
   "outputs": [
    {
     "name": "stdout",
     "output_type": "stream",
     "text": [
      "<class 'list'>\n"
     ]
    }
   ],
   "source": [
    "x = [\"apple\", \"banana\", \"cherry\"]\n",
    "print(type(x))\n",
    "\n",
    "#Output should be: list"
   ]
  },
  {
   "cell_type": "markdown",
   "id": "aa705f0a",
   "metadata": {},
   "source": [
    "Data_types_ex5"
   ]
  },
  {
   "cell_type": "code",
   "execution_count": 20,
   "id": "69b634cc",
   "metadata": {},
   "outputs": [
    {
     "name": "stdout",
     "output_type": "stream",
     "text": [
      "<class 'tuple'>\n"
     ]
    }
   ],
   "source": [
    "x = (\"apple\", \"banana\", \"cherry\")\n",
    "print(type(x))\n",
    "\n",
    "#Output should be: tuple"
   ]
  },
  {
   "cell_type": "markdown",
   "id": "31093ed0",
   "metadata": {},
   "source": [
    "Data_types_ex6"
   ]
  },
  {
   "cell_type": "code",
   "execution_count": 22,
   "id": "70dd112d",
   "metadata": {},
   "outputs": [
    {
     "name": "stdout",
     "output_type": "stream",
     "text": [
      "<class 'dict'>\n"
     ]
    }
   ],
   "source": [
    "x = {\"name\" : \"John\", \"age\" : 36}\n",
    "print(type(x))\n",
    "\n",
    "#Output should be: dict"
   ]
  },
  {
   "cell_type": "markdown",
   "id": "93fda838",
   "metadata": {},
   "source": [
    "Data_types_ex7"
   ]
  },
  {
   "cell_type": "code",
   "execution_count": 23,
   "id": "e14436bb",
   "metadata": {},
   "outputs": [
    {
     "name": "stdout",
     "output_type": "stream",
     "text": [
      "<class 'bool'>\n"
     ]
    }
   ],
   "source": [
    "x = True\n",
    "print(type(x))\n",
    "\n",
    "#Output should be: bool"
   ]
  },
  {
   "cell_type": "markdown",
   "id": "76177298",
   "metadata": {},
   "source": [
    "Numbers_ex1\n"
   ]
  },
  {
   "cell_type": "code",
   "execution_count": 24,
   "id": "9b39894e",
   "metadata": {},
   "outputs": [],
   "source": [
    "x = 5\n",
    "x = float(x)"
   ]
  },
  {
   "cell_type": "markdown",
   "id": "260bfe47",
   "metadata": {},
   "source": [
    "Numbers_ex2"
   ]
  },
  {
   "cell_type": "code",
   "execution_count": 25,
   "id": "e7ce9781",
   "metadata": {},
   "outputs": [],
   "source": [
    "x = 5.5\n",
    "x = int(x)"
   ]
  },
  {
   "cell_type": "markdown",
   "id": "3d41396f",
   "metadata": {},
   "source": [
    "Numbers_ex3"
   ]
  },
  {
   "cell_type": "code",
   "execution_count": 26,
   "id": "063c6897",
   "metadata": {},
   "outputs": [],
   "source": [
    "x = 5\n",
    "x = complex(x)"
   ]
  },
  {
   "cell_type": "markdown",
   "id": "74be0203",
   "metadata": {},
   "source": [
    "Strings_ex1\n"
   ]
  },
  {
   "cell_type": "code",
   "execution_count": 28,
   "id": "1bfc07d6",
   "metadata": {},
   "outputs": [
    {
     "name": "stdout",
     "output_type": "stream",
     "text": [
      "11\n"
     ]
    }
   ],
   "source": [
    "x = \"Hello World\"\n",
    "print(len(x))"
   ]
  },
  {
   "cell_type": "markdown",
   "id": "ea66c55b",
   "metadata": {},
   "source": [
    "Strings_ex2\n"
   ]
  },
  {
   "cell_type": "code",
   "execution_count": 33,
   "id": "a081bd9b",
   "metadata": {},
   "outputs": [],
   "source": [
    "txt = \"Hello World\"\n",
    "x = txt[0]"
   ]
  },
  {
   "cell_type": "markdown",
   "id": "d8a5708b",
   "metadata": {},
   "source": [
    "Strings_ex3\n"
   ]
  },
  {
   "cell_type": "code",
   "execution_count": 34,
   "id": "7a6069f8",
   "metadata": {},
   "outputs": [],
   "source": [
    "txt = \"Hello World\"\n",
    "x = txt[2:5]"
   ]
  },
  {
   "cell_type": "markdown",
   "id": "349c80ba",
   "metadata": {},
   "source": [
    "Strings_ex4"
   ]
  },
  {
   "cell_type": "code",
   "execution_count": 35,
   "id": "33e86de0",
   "metadata": {},
   "outputs": [],
   "source": [
    "txt = \" Hello World \"\n",
    "x = txt.strip()"
   ]
  },
  {
   "cell_type": "markdown",
   "id": "44b4f90d",
   "metadata": {},
   "source": [
    "Strings_ex5"
   ]
  },
  {
   "cell_type": "code",
   "execution_count": 36,
   "id": "6e2d323a",
   "metadata": {},
   "outputs": [],
   "source": [
    "txt = \"Hello World\"\n",
    "txt = txt.upper()"
   ]
  },
  {
   "cell_type": "markdown",
   "id": "d7c87d8f",
   "metadata": {},
   "source": [
    "Strings_ex6"
   ]
  },
  {
   "cell_type": "code",
   "execution_count": 38,
   "id": "2621b0d8",
   "metadata": {},
   "outputs": [],
   "source": [
    "txt = \"Hello World\"\n",
    "txt = txt.lower()"
   ]
  },
  {
   "cell_type": "markdown",
   "id": "fbd96986",
   "metadata": {},
   "source": [
    "Strings_ex7"
   ]
  },
  {
   "cell_type": "code",
   "execution_count": 39,
   "id": "f7f4f6fe",
   "metadata": {},
   "outputs": [],
   "source": [
    "txt = \"Hello World\"\n",
    "txt = txt.replace(\"H\", \"J\")"
   ]
  },
  {
   "cell_type": "markdown",
   "id": "b7cd89a0",
   "metadata": {},
   "source": [
    "Strings_ex8"
   ]
  },
  {
   "cell_type": "code",
   "execution_count": 40,
   "id": "6870d7ab",
   "metadata": {},
   "outputs": [
    {
     "name": "stdout",
     "output_type": "stream",
     "text": [
      "My name is John, and I am 36\n"
     ]
    }
   ],
   "source": [
    "age = 36\n",
    "txt = \"My name is John, and I am {}\"\n",
    "print(txt.format(age))"
   ]
  },
  {
   "cell_type": "code",
   "execution_count": null,
   "id": "a5e8c139",
   "metadata": {},
   "outputs": [],
   "source": []
  }
 ],
 "metadata": {
  "kernelspec": {
   "display_name": "Python 3 (ipykernel)",
   "language": "python",
   "name": "python3"
  },
  "language_info": {
   "codemirror_mode": {
    "name": "ipython",
    "version": 3
   },
   "file_extension": ".py",
   "mimetype": "text/x-python",
   "name": "python",
   "nbconvert_exporter": "python",
   "pygments_lexer": "ipython3",
   "version": "3.9.13"
  }
 },
 "nbformat": 4,
 "nbformat_minor": 5
}
