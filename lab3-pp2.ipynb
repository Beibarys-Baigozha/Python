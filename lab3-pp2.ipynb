{
 "cells": [
  {
   "cell_type": "markdown",
   "id": "027ad9c1",
   "metadata": {},
   "source": [
    "Functions_ex1"
   ]
  },
  {
   "cell_type": "code",
   "execution_count": 1,
   "id": "f21c6a23",
   "metadata": {},
   "outputs": [],
   "source": [
    "def my_function():\n",
    "  print(\"Hello from a function\")"
   ]
  },
  {
   "cell_type": "markdown",
   "id": "df66ca8b",
   "metadata": {},
   "source": [
    "Functions_ex2"
   ]
  },
  {
   "cell_type": "code",
   "execution_count": 2,
   "id": "6bab51bd",
   "metadata": {},
   "outputs": [
    {
     "name": "stdout",
     "output_type": "stream",
     "text": [
      "Hello from a function\n"
     ]
    }
   ],
   "source": [
    "def my_function():\n",
    "  print(\"Hello from a function\")\n",
    "\n",
    "my_function()"
   ]
  },
  {
   "cell_type": "markdown",
   "id": "e7ba82ba",
   "metadata": {},
   "source": [
    "Functions_ex3"
   ]
  },
  {
   "cell_type": "code",
   "execution_count": 3,
   "id": "30836437",
   "metadata": {},
   "outputs": [],
   "source": [
    "def my_function(fname, lname):\n",
    "  print(fname)"
   ]
  },
  {
   "cell_type": "markdown",
   "id": "0ae505ef",
   "metadata": {},
   "source": [
    "Functions_ex4"
   ]
  },
  {
   "cell_type": "code",
   "execution_count": 5,
   "id": "a975c08d",
   "metadata": {},
   "outputs": [],
   "source": [
    "def my_function(x):\n",
    "    return x + 5"
   ]
  },
  {
   "cell_type": "markdown",
   "id": "49d9d61e",
   "metadata": {},
   "source": [
    "Functions_ex5"
   ]
  },
  {
   "cell_type": "code",
   "execution_count": 7,
   "id": "9f4fb9e1",
   "metadata": {},
   "outputs": [],
   "source": [
    "def my_function(*kids):\n",
    "      print(\"The youngest child is \" + kids[2])"
   ]
  },
  {
   "cell_type": "markdown",
   "id": "2a7e3435",
   "metadata": {},
   "source": [
    "Functions_ex6"
   ]
  },
  {
   "cell_type": "code",
   "execution_count": 8,
   "id": "9db73a29",
   "metadata": {},
   "outputs": [],
   "source": [
    "def my_function(**kid):\n",
    "      print(\"His last name is \" + kid[\"lname\"])"
   ]
  },
  {
   "cell_type": "markdown",
   "id": "84e2d957",
   "metadata": {},
   "source": [
    "Lambda_ex1"
   ]
  },
  {
   "cell_type": "code",
   "execution_count": 9,
   "id": "c5ca2214",
   "metadata": {},
   "outputs": [],
   "source": [
    "x = lambda a : a"
   ]
  },
  {
   "cell_type": "markdown",
   "id": "6b92ce47",
   "metadata": {},
   "source": [
    "Classes_ex1"
   ]
  },
  {
   "cell_type": "code",
   "execution_count": 10,
   "id": "772dfbc1",
   "metadata": {},
   "outputs": [],
   "source": [
    "class MyClass:\n",
    "  x = 5"
   ]
  },
  {
   "cell_type": "markdown",
   "id": "0bd47796",
   "metadata": {},
   "source": [
    "Classes_ex2"
   ]
  },
  {
   "cell_type": "code",
   "execution_count": 11,
   "id": "67c859e3",
   "metadata": {},
   "outputs": [],
   "source": [
    "class MyClass:\n",
    "  x = 5\n",
    "\n",
    "p1 = MyClass()"
   ]
  },
  {
   "cell_type": "markdown",
   "id": "1eec1fe1",
   "metadata": {},
   "source": [
    "Classes_ex3"
   ]
  },
  {
   "cell_type": "code",
   "execution_count": 12,
   "id": "cb4d70b6",
   "metadata": {},
   "outputs": [
    {
     "name": "stdout",
     "output_type": "stream",
     "text": [
      "5\n"
     ]
    }
   ],
   "source": [
    "class MyClass:\n",
    "  x = 5\n",
    "\n",
    "p1 = MyClass()\n",
    "\n",
    "print(p1.x)"
   ]
  },
  {
   "cell_type": "markdown",
   "id": "c1c221d9",
   "metadata": {},
   "source": [
    "Classes_ex4"
   ]
  },
  {
   "cell_type": "code",
   "execution_count": 13,
   "id": "3776ba9b",
   "metadata": {},
   "outputs": [],
   "source": [
    "class Person:\n",
    "  def __init__ (self, name, age):\n",
    "    self.name = name\n",
    "    self.age = age"
   ]
  },
  {
   "cell_type": "markdown",
   "id": "be553588",
   "metadata": {},
   "source": [
    "Inheritance_ex1"
   ]
  },
  {
   "cell_type": "code",
   "execution_count": 14,
   "id": "f6eea465",
   "metadata": {},
   "outputs": [
    {
     "ename": "IndentationError",
     "evalue": "expected an indented block (1837653384.py, line 1)",
     "output_type": "error",
     "traceback": [
      "\u001b[1;36m  File \u001b[1;32m\"C:\\Users\\Hp\\AppData\\Local\\Temp\\ipykernel_12536\\1837653384.py\"\u001b[1;36m, line \u001b[1;32m1\u001b[0m\n\u001b[1;33m    class Student(Person):\u001b[0m\n\u001b[1;37m                          ^\u001b[0m\n\u001b[1;31mIndentationError\u001b[0m\u001b[1;31m:\u001b[0m expected an indented block\n"
     ]
    }
   ],
   "source": [
    "class Student(Person):"
   ]
  },
  {
   "cell_type": "markdown",
   "id": "78f93ecd",
   "metadata": {},
   "source": [
    "Inheritance_ex2"
   ]
  },
  {
   "cell_type": "code",
   "execution_count": 15,
   "id": "969772fb",
   "metadata": {},
   "outputs": [
    {
     "name": "stdout",
     "output_type": "stream",
     "text": [
      "Mike\n"
     ]
    }
   ],
   "source": [
    "class Person:\n",
    "  def __init__(self, fname):\n",
    "    self.firstname = fname\n",
    "\n",
    "  def printname(self):\n",
    "    print(self.firstname)\n",
    "\n",
    "class Student(Person):\n",
    "  pass\n",
    "\n",
    "x = Student(\"Mike\")\n",
    "x.printname()"
   ]
  },
  {
   "cell_type": "markdown",
   "id": "66c9bdc4",
   "metadata": {},
   "source": [
    "Modules_ex1"
   ]
  },
  {
   "cell_type": "code",
   "execution_count": 16,
   "id": "39595021",
   "metadata": {},
   "outputs": [
    {
     "ename": "ModuleNotFoundError",
     "evalue": "No module named 'mymodule'",
     "output_type": "error",
     "traceback": [
      "\u001b[1;31m---------------------------------------------------------------------------\u001b[0m",
      "\u001b[1;31mModuleNotFoundError\u001b[0m                       Traceback (most recent call last)",
      "\u001b[1;32m~\\AppData\\Local\\Temp\\ipykernel_12536\\667668697.py\u001b[0m in \u001b[0;36m<module>\u001b[1;34m\u001b[0m\n\u001b[1;32m----> 1\u001b[1;33m \u001b[1;32mimport\u001b[0m \u001b[0mmymodule\u001b[0m\u001b[1;33m\u001b[0m\u001b[1;33m\u001b[0m\u001b[0m\n\u001b[0m",
      "\u001b[1;31mModuleNotFoundError\u001b[0m: No module named 'mymodule'"
     ]
    }
   ],
   "source": [
    "import mymodule"
   ]
  },
  {
   "cell_type": "markdown",
   "id": "425385b0",
   "metadata": {},
   "source": [
    "Modules_ex2"
   ]
  },
  {
   "cell_type": "code",
   "execution_count": 17,
   "id": "5d4fa84a",
   "metadata": {},
   "outputs": [
    {
     "ename": "ModuleNotFoundError",
     "evalue": "No module named 'mymodule'",
     "output_type": "error",
     "traceback": [
      "\u001b[1;31m---------------------------------------------------------------------------\u001b[0m",
      "\u001b[1;31mModuleNotFoundError\u001b[0m                       Traceback (most recent call last)",
      "\u001b[1;32m~\\AppData\\Local\\Temp\\ipykernel_12536\\3557309245.py\u001b[0m in \u001b[0;36m<module>\u001b[1;34m\u001b[0m\n\u001b[1;32m----> 1\u001b[1;33m \u001b[1;32mimport\u001b[0m \u001b[0mmymodule\u001b[0m \u001b[1;32mas\u001b[0m \u001b[0mmx\u001b[0m\u001b[1;33m\u001b[0m\u001b[1;33m\u001b[0m\u001b[0m\n\u001b[0m",
      "\u001b[1;31mModuleNotFoundError\u001b[0m: No module named 'mymodule'"
     ]
    }
   ],
   "source": [
    "import mymodule as mx"
   ]
  },
  {
   "cell_type": "markdown",
   "id": "99b014d5",
   "metadata": {},
   "source": [
    "Modules_ex3"
   ]
  },
  {
   "cell_type": "code",
   "execution_count": 18,
   "id": "9df1fdd3",
   "metadata": {},
   "outputs": [
    {
     "ename": "ModuleNotFoundError",
     "evalue": "No module named 'mymodule'",
     "output_type": "error",
     "traceback": [
      "\u001b[1;31m---------------------------------------------------------------------------\u001b[0m",
      "\u001b[1;31mModuleNotFoundError\u001b[0m                       Traceback (most recent call last)",
      "\u001b[1;32m~\\AppData\\Local\\Temp\\ipykernel_12536\\2225972300.py\u001b[0m in \u001b[0;36m<module>\u001b[1;34m\u001b[0m\n\u001b[1;32m----> 1\u001b[1;33m \u001b[1;32mimport\u001b[0m \u001b[0mmymodule\u001b[0m\u001b[1;33m\u001b[0m\u001b[1;33m\u001b[0m\u001b[0m\n\u001b[0m\u001b[0;32m      2\u001b[0m \u001b[1;33m\u001b[0m\u001b[0m\n\u001b[0;32m      3\u001b[0m \u001b[0mprint\u001b[0m\u001b[1;33m(\u001b[0m\u001b[0mdir\u001b[0m\u001b[1;33m(\u001b[0m\u001b[0mmymodule\u001b[0m\u001b[1;33m)\u001b[0m\u001b[1;33m)\u001b[0m\u001b[1;33m\u001b[0m\u001b[1;33m\u001b[0m\u001b[0m\n",
      "\u001b[1;31mModuleNotFoundError\u001b[0m: No module named 'mymodule'"
     ]
    }
   ],
   "source": [
    "import mymodule\n",
    "\n",
    "print(dir(mymodule))"
   ]
  },
  {
   "cell_type": "markdown",
   "id": "6ff927a5",
   "metadata": {},
   "source": [
    "Modules_ex4"
   ]
  },
  {
   "cell_type": "code",
   "execution_count": 19,
   "id": "92e1ea5f",
   "metadata": {},
   "outputs": [
    {
     "ename": "ModuleNotFoundError",
     "evalue": "No module named 'mymodule'",
     "output_type": "error",
     "traceback": [
      "\u001b[1;31m---------------------------------------------------------------------------\u001b[0m",
      "\u001b[1;31mModuleNotFoundError\u001b[0m                       Traceback (most recent call last)",
      "\u001b[1;32m~\\AppData\\Local\\Temp\\ipykernel_12536\\1941443419.py\u001b[0m in \u001b[0;36m<module>\u001b[1;34m\u001b[0m\n\u001b[1;32m----> 1\u001b[1;33m \u001b[1;32mfrom\u001b[0m \u001b[0mmymodule\u001b[0m \u001b[1;32mimport\u001b[0m \u001b[0mperson1\u001b[0m\u001b[1;33m\u001b[0m\u001b[1;33m\u001b[0m\u001b[0m\n\u001b[0m",
      "\u001b[1;31mModuleNotFoundError\u001b[0m: No module named 'mymodule'"
     ]
    }
   ],
   "source": [
    "from mymodule import person1"
   ]
  },
  {
   "cell_type": "code",
   "execution_count": null,
   "id": "2e95ccd3",
   "metadata": {},
   "outputs": [],
   "source": []
  }
 ],
 "metadata": {
  "kernelspec": {
   "display_name": "Python 3 (ipykernel)",
   "language": "python",
   "name": "python3"
  },
  "language_info": {
   "codemirror_mode": {
    "name": "ipython",
    "version": 3
   },
   "file_extension": ".py",
   "mimetype": "text/x-python",
   "name": "python",
   "nbconvert_exporter": "python",
   "pygments_lexer": "ipython3",
   "version": "3.9.13"
  }
 },
 "nbformat": 4,
 "nbformat_minor": 5
}
