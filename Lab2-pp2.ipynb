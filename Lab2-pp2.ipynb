{
 "cells": [
  {
   "cell_type": "markdown",
   "id": "a7e3c055",
   "metadata": {},
   "source": [
    "Booleans_ex1\n"
   ]
  },
  {
   "cell_type": "code",
   "execution_count": 1,
   "id": "73297538",
   "metadata": {},
   "outputs": [
    {
     "name": "stdout",
     "output_type": "stream",
     "text": [
      "True\n"
     ]
    }
   ],
   "source": [
    "print(10 > 9)\n",
    "\n",
    "#True"
   ]
  },
  {
   "cell_type": "markdown",
   "id": "123f88c4",
   "metadata": {},
   "source": [
    "Booleans_ex2"
   ]
  },
  {
   "cell_type": "code",
   "execution_count": 2,
   "id": "885be704",
   "metadata": {},
   "outputs": [
    {
     "name": "stdout",
     "output_type": "stream",
     "text": [
      "False\n"
     ]
    }
   ],
   "source": [
    "print(10 == 9)\n",
    "\n",
    "#False"
   ]
  },
  {
   "cell_type": "markdown",
   "id": "c84b8ad2",
   "metadata": {},
   "source": [
    "Booleans_ex3"
   ]
  },
  {
   "cell_type": "code",
   "execution_count": 3,
   "id": "5cd7ec0f",
   "metadata": {},
   "outputs": [
    {
     "name": "stdout",
     "output_type": "stream",
     "text": [
      "False\n"
     ]
    }
   ],
   "source": [
    "print(10 < 9)\n",
    "\n",
    "#False"
   ]
  },
  {
   "cell_type": "markdown",
   "id": "7e213807",
   "metadata": {},
   "source": [
    "Booleans_ex4"
   ]
  },
  {
   "cell_type": "code",
   "execution_count": 4,
   "id": "e04ff498",
   "metadata": {},
   "outputs": [
    {
     "name": "stdout",
     "output_type": "stream",
     "text": [
      "True\n"
     ]
    }
   ],
   "source": [
    "print(bool(\"abc\"))\n",
    "\n",
    "#True"
   ]
  },
  {
   "cell_type": "markdown",
   "id": "fe5756d2",
   "metadata": {},
   "source": [
    "Booleans_ex5"
   ]
  },
  {
   "cell_type": "code",
   "execution_count": 5,
   "id": "bdcf8868",
   "metadata": {},
   "outputs": [
    {
     "name": "stdout",
     "output_type": "stream",
     "text": [
      "False\n"
     ]
    }
   ],
   "source": [
    "print(bool(0))\n",
    "\n",
    "#False"
   ]
  },
  {
   "cell_type": "markdown",
   "id": "8a22aac0",
   "metadata": {},
   "source": [
    "Operators_ex1"
   ]
  },
  {
   "cell_type": "code",
   "execution_count": 6,
   "id": "5fb39c53",
   "metadata": {},
   "outputs": [
    {
     "name": "stdout",
     "output_type": "stream",
     "text": [
      "50\n"
     ]
    }
   ],
   "source": [
    "print(10 * 5)"
   ]
  },
  {
   "cell_type": "markdown",
   "id": "25517a0e",
   "metadata": {},
   "source": [
    "Operators_ex2"
   ]
  },
  {
   "cell_type": "code",
   "execution_count": 7,
   "id": "62aed47b",
   "metadata": {},
   "outputs": [
    {
     "name": "stdout",
     "output_type": "stream",
     "text": [
      "5.0\n"
     ]
    }
   ],
   "source": [
    "print(10 / 2)"
   ]
  },
  {
   "cell_type": "markdown",
   "id": "e83da3ca",
   "metadata": {},
   "source": [
    "Operators_ex3"
   ]
  },
  {
   "cell_type": "code",
   "execution_count": 8,
   "id": "43ba0841",
   "metadata": {},
   "outputs": [
    {
     "name": "stdout",
     "output_type": "stream",
     "text": [
      "Yes, apple is a fruit!\n"
     ]
    }
   ],
   "source": [
    "fruits = [\"apple\", \"banana\"]\n",
    "if \"apple\" in fruits:\n",
    "  print(\"Yes, apple is a fruit!\")"
   ]
  },
  {
   "cell_type": "markdown",
   "id": "7f407653",
   "metadata": {},
   "source": [
    "Operators_ex4"
   ]
  },
  {
   "cell_type": "code",
   "execution_count": 9,
   "id": "6bb8ea41",
   "metadata": {},
   "outputs": [
    {
     "name": "stdout",
     "output_type": "stream",
     "text": [
      "5 and 10 is not equal\n"
     ]
    }
   ],
   "source": [
    "if 5 != 10:\n",
    "  print(\"5 and 10 is not equal\")"
   ]
  },
  {
   "cell_type": "markdown",
   "id": "a9e14328",
   "metadata": {},
   "source": [
    "Operators_ex5"
   ]
  },
  {
   "cell_type": "code",
   "execution_count": 10,
   "id": "64ca8df8",
   "metadata": {},
   "outputs": [
    {
     "name": "stdout",
     "output_type": "stream",
     "text": [
      "At least one of the statements is true\n"
     ]
    }
   ],
   "source": [
    "if 5 == 10 or 4 == 4:\n",
    "  print(\"At least one of the statements is true\")"
   ]
  },
  {
   "cell_type": "markdown",
   "id": "bb76f9db",
   "metadata": {},
   "source": [
    "Lists_ex1"
   ]
  },
  {
   "cell_type": "code",
   "execution_count": 11,
   "id": "fef3d0d3",
   "metadata": {},
   "outputs": [
    {
     "name": "stdout",
     "output_type": "stream",
     "text": [
      "banana\n"
     ]
    }
   ],
   "source": [
    "fruits = [\"apple\", \"banana\", \"cherry\"]\n",
    "print(fruits[1])"
   ]
  },
  {
   "cell_type": "markdown",
   "id": "e91608cf",
   "metadata": {},
   "source": [
    "Lists_ex2"
   ]
  },
  {
   "cell_type": "code",
   "execution_count": 12,
   "id": "d51ec1a6",
   "metadata": {},
   "outputs": [],
   "source": [
    "fruits = [\"apple\", \"banana\", \"cherry\"]\n",
    "fruits[0] = \"kiwi\""
   ]
  },
  {
   "cell_type": "markdown",
   "id": "c524ce26",
   "metadata": {},
   "source": [
    "Lists_ex3"
   ]
  },
  {
   "cell_type": "code",
   "execution_count": 13,
   "id": "89dc9e06",
   "metadata": {},
   "outputs": [],
   "source": [
    "fruits = [\"apple\", \"banana\", \"cherry\"]\n",
    "fruits.append(\"orange\")"
   ]
  },
  {
   "cell_type": "markdown",
   "id": "89c41dbe",
   "metadata": {},
   "source": [
    "Lists_ex4"
   ]
  },
  {
   "cell_type": "code",
   "execution_count": 14,
   "id": "cfb8227c",
   "metadata": {},
   "outputs": [],
   "source": [
    "fruits = [\"apple\", \"banana\", \"cherry\"]\n",
    "fruits.insert(1, \"lemon\")"
   ]
  },
  {
   "cell_type": "markdown",
   "id": "1d6f83ba",
   "metadata": {},
   "source": [
    "Lists_ex5"
   ]
  },
  {
   "cell_type": "code",
   "execution_count": 15,
   "id": "f577a8af",
   "metadata": {},
   "outputs": [],
   "source": [
    "fruits = [\"apple\", \"banana\", \"cherry\"]\n",
    "fruits.remove(\"banana\")"
   ]
  },
  {
   "cell_type": "markdown",
   "id": "be922862",
   "metadata": {},
   "source": [
    "Lists_ex6"
   ]
  },
  {
   "cell_type": "code",
   "execution_count": 16,
   "id": "9686068a",
   "metadata": {},
   "outputs": [
    {
     "name": "stdout",
     "output_type": "stream",
     "text": [
      "cherry\n"
     ]
    }
   ],
   "source": [
    "fruits = [\"apple\", \"banana\", \"cherry\"]\n",
    "print(fruits[-1])"
   ]
  },
  {
   "cell_type": "markdown",
   "id": "1d989a1b",
   "metadata": {},
   "source": [
    "Lists_ex7"
   ]
  },
  {
   "cell_type": "code",
   "execution_count": 17,
   "id": "90f3a418",
   "metadata": {},
   "outputs": [
    {
     "name": "stdout",
     "output_type": "stream",
     "text": [
      "['cherry', 'orange', 'kiwi']\n"
     ]
    }
   ],
   "source": [
    "fruits = [\"apple\", \"banana\", \"cherry\", \"orange\", \"kiwi\", \"melon\", \"mango\"]\n",
    "print(fruits[2:5])"
   ]
  },
  {
   "cell_type": "markdown",
   "id": "d75061b0",
   "metadata": {},
   "source": [
    "Lists_ex8"
   ]
  },
  {
   "cell_type": "code",
   "execution_count": 18,
   "id": "e29688fb",
   "metadata": {},
   "outputs": [
    {
     "name": "stdout",
     "output_type": "stream",
     "text": [
      "3\n"
     ]
    }
   ],
   "source": [
    "fruits = [\"apple\", \"banana\", \"cherry\"]\n",
    "print(len(fruits))"
   ]
  },
  {
   "cell_type": "markdown",
   "id": "dd8ce233",
   "metadata": {},
   "source": [
    "Tuples_ex1"
   ]
  },
  {
   "cell_type": "code",
   "execution_count": 19,
   "id": "e64c981b",
   "metadata": {},
   "outputs": [
    {
     "name": "stdout",
     "output_type": "stream",
     "text": [
      "apple\n"
     ]
    }
   ],
   "source": [
    "fruits = (\"apple\", \"banana\", \"cherry\")\n",
    "print(fruits[0])"
   ]
  },
  {
   "cell_type": "markdown",
   "id": "6c37c2c0",
   "metadata": {},
   "source": [
    "Tuples_ex2"
   ]
  },
  {
   "cell_type": "code",
   "execution_count": 20,
   "id": "d67ebc2d",
   "metadata": {},
   "outputs": [
    {
     "name": "stdout",
     "output_type": "stream",
     "text": [
      "3\n"
     ]
    }
   ],
   "source": [
    "fruits = (\"apple\", \"banana\", \"cherry\")\n",
    "print(len(fruits))"
   ]
  },
  {
   "cell_type": "markdown",
   "id": "d3f109ad",
   "metadata": {},
   "source": [
    "Tuples_ex3"
   ]
  },
  {
   "cell_type": "code",
   "execution_count": 21,
   "id": "e1bf3e7b",
   "metadata": {},
   "outputs": [
    {
     "name": "stdout",
     "output_type": "stream",
     "text": [
      "cherry\n"
     ]
    }
   ],
   "source": [
    "fruits = (\"apple\", \"banana\", \"cherry\")\n",
    "print(fruits[-1])"
   ]
  },
  {
   "cell_type": "markdown",
   "id": "0a7e634b",
   "metadata": {},
   "source": [
    "Tuples_ex4"
   ]
  },
  {
   "cell_type": "code",
   "execution_count": 22,
   "id": "043f5399",
   "metadata": {},
   "outputs": [
    {
     "name": "stdout",
     "output_type": "stream",
     "text": [
      "('cherry', 'orange', 'kiwi')\n"
     ]
    }
   ],
   "source": [
    "fruits = (\"apple\", \"banana\", \"cherry\", \"orange\", \"kiwi\", \"melon\", \"mango\")\n",
    "print(fruits[2:5])"
   ]
  },
  {
   "cell_type": "markdown",
   "id": "288326b6",
   "metadata": {},
   "source": [
    "Sets_ex1"
   ]
  },
  {
   "cell_type": "code",
   "execution_count": 23,
   "id": "8a46c419",
   "metadata": {},
   "outputs": [
    {
     "name": "stdout",
     "output_type": "stream",
     "text": [
      "Yes, apple is a fruit!\n"
     ]
    }
   ],
   "source": [
    "fruits = {\"apple\", \"banana\", \"cherry\"}\n",
    "if \"apple\" in fruits:\n",
    "  print(\"Yes, apple is a fruit!\")"
   ]
  },
  {
   "cell_type": "markdown",
   "id": "7b179fa7",
   "metadata": {},
   "source": [
    "Sets_ex2"
   ]
  },
  {
   "cell_type": "code",
   "execution_count": 24,
   "id": "122a5432",
   "metadata": {},
   "outputs": [],
   "source": [
    "fruits = {\"apple\", \"banana\", \"cherry\"}\n",
    "fruits.add(\"orange\")"
   ]
  },
  {
   "cell_type": "markdown",
   "id": "80a90757",
   "metadata": {},
   "source": [
    "Sets_ex3"
   ]
  },
  {
   "cell_type": "code",
   "execution_count": 25,
   "id": "d22ad144",
   "metadata": {},
   "outputs": [],
   "source": [
    "fruits = {\"apple\", \"banana\", \"cherry\"}\n",
    "more_fruits = [\"orange\", \"mango\", \"grapes\"]\n",
    "fruits.update(more_fruits)"
   ]
  },
  {
   "cell_type": "markdown",
   "id": "d2b2dead",
   "metadata": {},
   "source": [
    "Sets_ex4"
   ]
  },
  {
   "cell_type": "code",
   "execution_count": 26,
   "id": "5a455e4a",
   "metadata": {},
   "outputs": [],
   "source": [
    "fruits = {\"apple\", \"banana\", \"cherry\"}\n",
    "fruits.remove(\"banana\")"
   ]
  },
  {
   "cell_type": "markdown",
   "id": "7bb6c847",
   "metadata": {},
   "source": [
    "Sets_ex5"
   ]
  },
  {
   "cell_type": "code",
   "execution_count": 27,
   "id": "84600569",
   "metadata": {},
   "outputs": [],
   "source": [
    "fruits = {\"apple\", \"banana\", \"cherry\"}\n",
    "fruits.discard(\"banana\")"
   ]
  },
  {
   "cell_type": "markdown",
   "id": "85590207",
   "metadata": {},
   "source": [
    "Dictionaries_ex1"
   ]
  },
  {
   "cell_type": "code",
   "execution_count": 28,
   "id": "06295c89",
   "metadata": {},
   "outputs": [
    {
     "name": "stdout",
     "output_type": "stream",
     "text": [
      "Mustang\n"
     ]
    }
   ],
   "source": [
    "car =\t{\n",
    "  \"brand\": \"Ford\",\n",
    "  \"model\": \"Mustang\",\n",
    "  \"year\": 1964\n",
    "}\n",
    "print(car.get(\"model\"))"
   ]
  },
  {
   "cell_type": "markdown",
   "id": "8d0a4ed4",
   "metadata": {},
   "source": [
    "Dictionaries_ex2"
   ]
  },
  {
   "cell_type": "code",
   "execution_count": 29,
   "id": "728f5ada",
   "metadata": {},
   "outputs": [],
   "source": [
    "car =\t{\n",
    "  \"brand\": \"Ford\",\n",
    "  \"model\": \"Mustang\",\n",
    "  \"year\": 1964\n",
    "}\n",
    "car[\"year\"] = 2020"
   ]
  },
  {
   "cell_type": "markdown",
   "id": "fba0a0a1",
   "metadata": {},
   "source": [
    "Dictionaries_ex3"
   ]
  },
  {
   "cell_type": "code",
   "execution_count": 30,
   "id": "d292845f",
   "metadata": {},
   "outputs": [],
   "source": [
    "car =\t{\n",
    "  \"brand\": \"Ford\",\n",
    "  \"model\": \"Mustang\",\n",
    "  \"year\": 1964\n",
    "}\n",
    "car[\"color\"] = \"red\""
   ]
  },
  {
   "cell_type": "markdown",
   "id": "6be822e4",
   "metadata": {},
   "source": [
    "Dictionaries_ex4"
   ]
  },
  {
   "cell_type": "code",
   "execution_count": 31,
   "id": "e0d75594",
   "metadata": {},
   "outputs": [
    {
     "data": {
      "text/plain": [
       "'Mustang'"
      ]
     },
     "execution_count": 31,
     "metadata": {},
     "output_type": "execute_result"
    }
   ],
   "source": [
    "car =\t{\n",
    "  \"brand\": \"Ford\",\n",
    "  \"model\": \"Mustang\",\n",
    "  \"year\": 1964\n",
    "}\n",
    "car.pop(\"model\")"
   ]
  },
  {
   "cell_type": "markdown",
   "id": "60f02e26",
   "metadata": {},
   "source": [
    "Dictionaries_ex5"
   ]
  },
  {
   "cell_type": "code",
   "execution_count": 32,
   "id": "ca79deb5",
   "metadata": {},
   "outputs": [],
   "source": [
    "car =\t{\n",
    "  \"brand\": \"Ford\",\n",
    "  \"model\": \"Mustang\",\n",
    "  \"year\": 1964\n",
    "}\n",
    "car.clear()"
   ]
  },
  {
   "cell_type": "markdown",
   "id": "4547c0e2",
   "metadata": {},
   "source": [
    "If...else_ex1"
   ]
  },
  {
   "cell_type": "code",
   "execution_count": 33,
   "id": "e0ed7563",
   "metadata": {},
   "outputs": [
    {
     "name": "stdout",
     "output_type": "stream",
     "text": [
      "Hello World\n"
     ]
    }
   ],
   "source": [
    "a = 50\n",
    "b = 10\n",
    "if a > b:\n",
    "  print(\"Hello World\")"
   ]
  },
  {
   "cell_type": "markdown",
   "id": "f67de58e",
   "metadata": {},
   "source": [
    "If...else_ex2"
   ]
  },
  {
   "cell_type": "code",
   "execution_count": 34,
   "id": "ce6ce920",
   "metadata": {},
   "outputs": [
    {
     "name": "stdout",
     "output_type": "stream",
     "text": [
      "Hello World\n"
     ]
    }
   ],
   "source": [
    "a = 50\n",
    "b = 10\n",
    "if a != b:\n",
    "  print(\"Hello World\")"
   ]
  },
  {
   "cell_type": "markdown",
   "id": "f1aff205",
   "metadata": {},
   "source": [
    "If...else_ex3"
   ]
  },
  {
   "cell_type": "code",
   "execution_count": 35,
   "id": "a7ad789a",
   "metadata": {},
   "outputs": [
    {
     "name": "stdout",
     "output_type": "stream",
     "text": [
      "No\n"
     ]
    }
   ],
   "source": [
    "a = 50\n",
    "b = 10\n",
    "if a == b:\n",
    "  print(\"Yes\")\n",
    "else:\n",
    "  print(\"No\")"
   ]
  },
  {
   "cell_type": "markdown",
   "id": "83359f4f",
   "metadata": {},
   "source": [
    "If...else_ex4"
   ]
  },
  {
   "cell_type": "code",
   "execution_count": 36,
   "id": "6ac375e8",
   "metadata": {},
   "outputs": [
    {
     "name": "stdout",
     "output_type": "stream",
     "text": [
      "2\n"
     ]
    }
   ],
   "source": [
    "a = 50\n",
    "b = 10\n",
    "if a == b:\n",
    "  print(\"1\")\n",
    "elif a > b:\n",
    "  print(\"2\")\n",
    "else:\n",
    "  print(\"3\")"
   ]
  },
  {
   "cell_type": "markdown",
   "id": "a1494b80",
   "metadata": {},
   "source": [
    "If...else_ex5"
   ]
  },
  {
   "cell_type": "code",
   "execution_count": 37,
   "id": "6dfe0993",
   "metadata": {},
   "outputs": [],
   "source": [
    "if a == b and c == d:\n",
    "  print(\"Hello\")"
   ]
  },
  {
   "cell_type": "markdown",
   "id": "6bd6dfb5",
   "metadata": {},
   "source": [
    "If...else_ex6"
   ]
  },
  {
   "cell_type": "code",
   "execution_count": 38,
   "id": "896d9d66",
   "metadata": {},
   "outputs": [
    {
     "ename": "NameError",
     "evalue": "name 'c' is not defined",
     "output_type": "error",
     "traceback": [
      "\u001b[1;31m---------------------------------------------------------------------------\u001b[0m",
      "\u001b[1;31mNameError\u001b[0m                                 Traceback (most recent call last)",
      "\u001b[1;32m~\\AppData\\Local\\Temp\\ipykernel_13460\\2275936751.py\u001b[0m in \u001b[0;36m<module>\u001b[1;34m\u001b[0m\n\u001b[1;32m----> 1\u001b[1;33m \u001b[1;32mif\u001b[0m \u001b[0ma\u001b[0m \u001b[1;33m==\u001b[0m \u001b[0mb\u001b[0m \u001b[1;32mor\u001b[0m \u001b[0mc\u001b[0m \u001b[1;33m==\u001b[0m \u001b[0md\u001b[0m\u001b[1;33m:\u001b[0m\u001b[1;33m\u001b[0m\u001b[1;33m\u001b[0m\u001b[0m\n\u001b[0m\u001b[0;32m      2\u001b[0m   \u001b[0mprint\u001b[0m\u001b[1;33m(\u001b[0m\u001b[1;34m\"Hello\"\u001b[0m\u001b[1;33m)\u001b[0m\u001b[1;33m\u001b[0m\u001b[1;33m\u001b[0m\u001b[0m\n",
      "\u001b[1;31mNameError\u001b[0m: name 'c' is not defined"
     ]
    }
   ],
   "source": [
    "if a == b or c == d:\n",
    "  print(\"Hello\")"
   ]
  },
  {
   "cell_type": "markdown",
   "id": "82495f56",
   "metadata": {},
   "source": [
    "If...else_ex7"
   ]
  },
  {
   "cell_type": "code",
   "execution_count": 39,
   "id": "b0ad996f",
   "metadata": {},
   "outputs": [
    {
     "name": "stdout",
     "output_type": "stream",
     "text": [
      "Five is greater than two!\n"
     ]
    }
   ],
   "source": [
    "if 5 > 2:\n",
    "  print(\"Five is greater than two!\")"
   ]
  },
  {
   "cell_type": "markdown",
   "id": "92a142e8",
   "metadata": {},
   "source": [
    "If...else_ex8"
   ]
  },
  {
   "cell_type": "code",
   "execution_count": 40,
   "id": "ed3457a7",
   "metadata": {},
   "outputs": [
    {
     "name": "stdout",
     "output_type": "stream",
     "text": [
      "Five is greater than two!\n"
     ]
    }
   ],
   "source": [
    "if 5 > 2: print(\"Five is greater than two!\")"
   ]
  },
  {
   "cell_type": "markdown",
   "id": "3df33237",
   "metadata": {},
   "source": [
    "If...else_ex9"
   ]
  },
  {
   "cell_type": "code",
   "execution_count": 41,
   "id": "e3edc747",
   "metadata": {},
   "outputs": [
    {
     "name": "stdout",
     "output_type": "stream",
     "text": [
      "Yes\n"
     ]
    }
   ],
   "source": [
    "print(\"Yes\") if 5 > 2 else print(\"No\")"
   ]
  },
  {
   "cell_type": "markdown",
   "id": "0e4e4083",
   "metadata": {},
   "source": [
    "While Loops_ex1"
   ]
  },
  {
   "cell_type": "code",
   "execution_count": 42,
   "id": "6b0236ce",
   "metadata": {},
   "outputs": [
    {
     "name": "stdout",
     "output_type": "stream",
     "text": [
      "1\n",
      "2\n",
      "3\n",
      "4\n",
      "5\n"
     ]
    }
   ],
   "source": [
    "i = 1\n",
    "while i < 6:\n",
    "  print(i)\n",
    "  i += 1"
   ]
  },
  {
   "cell_type": "markdown",
   "id": "ee7cdbac",
   "metadata": {},
   "source": [
    "While Loops_ex2"
   ]
  },
  {
   "cell_type": "code",
   "execution_count": 48,
   "id": "f2f4a25d",
   "metadata": {},
   "outputs": [],
   "source": [
    "i = 1\n",
    "while i < 6:\n",
    "  if i == 3:  \n",
    "    break\n",
    "  i += 1"
   ]
  },
  {
   "cell_type": "markdown",
   "id": "a7782081",
   "metadata": {},
   "source": [
    "While Loops_ex3"
   ]
  },
  {
   "cell_type": "code",
   "execution_count": 47,
   "id": "91b4c74a",
   "metadata": {},
   "outputs": [
    {
     "name": "stdout",
     "output_type": "stream",
     "text": [
      "1\n",
      "2\n",
      "4\n",
      "5\n",
      "6\n"
     ]
    }
   ],
   "source": [
    "i = 0\n",
    "while i < 6:\n",
    "  i += 1\n",
    "  if i == 3:    \n",
    "    continue\n",
    "  print(i)"
   ]
  },
  {
   "cell_type": "markdown",
   "id": "e5620751",
   "metadata": {},
   "source": [
    "While Loops_ex4"
   ]
  },
  {
   "cell_type": "code",
   "execution_count": 49,
   "id": "a05e6b64",
   "metadata": {},
   "outputs": [
    {
     "name": "stdout",
     "output_type": "stream",
     "text": [
      "1\n",
      "2\n",
      "3\n",
      "4\n",
      "5\n",
      "i is no longer less than 6\n"
     ]
    }
   ],
   "source": [
    "i = 1\n",
    "while i < 6:\n",
    "  print(i)\n",
    "  i += 1\n",
    "else:\n",
    "  print(\"i is no longer less than 6\")"
   ]
  },
  {
   "cell_type": "markdown",
   "id": "c65f75b6",
   "metadata": {},
   "source": [
    "For Loops_ex1"
   ]
  },
  {
   "cell_type": "code",
   "execution_count": 51,
   "id": "9705f936",
   "metadata": {},
   "outputs": [
    {
     "name": "stdout",
     "output_type": "stream",
     "text": [
      "apple\n",
      "banana\n",
      "cherry\n"
     ]
    }
   ],
   "source": [
    "fruits = [\"apple\", \"banana\", \"cherry\"]\n",
    "for x in fruits:\n",
    "  print(x)"
   ]
  },
  {
   "cell_type": "markdown",
   "id": "4c869b5e",
   "metadata": {},
   "source": [
    "For Loops_ex2"
   ]
  },
  {
   "cell_type": "code",
   "execution_count": 52,
   "id": "7b6727ec",
   "metadata": {},
   "outputs": [
    {
     "name": "stdout",
     "output_type": "stream",
     "text": [
      "apple\n",
      "cherry\n"
     ]
    }
   ],
   "source": [
    "fruits = [\"apple\", \"banana\", \"cherry\"]\n",
    "for x in fruits:\n",
    "  if x == \"banana\":   \n",
    "    continue\n",
    "  print(x)"
   ]
  },
  {
   "cell_type": "markdown",
   "id": "5a0ebbea",
   "metadata": {},
   "source": [
    "For Loops_ex3"
   ]
  },
  {
   "cell_type": "code",
   "execution_count": 53,
   "id": "ad7aa018",
   "metadata": {},
   "outputs": [
    {
     "name": "stdout",
     "output_type": "stream",
     "text": [
      "0\n",
      "1\n",
      "2\n",
      "3\n",
      "4\n",
      "5\n"
     ]
    }
   ],
   "source": [
    "for x in range(6):\n",
    "  print(x)"
   ]
  },
  {
   "cell_type": "markdown",
   "id": "d757a859",
   "metadata": {},
   "source": [
    "For Loops_ex4"
   ]
  },
  {
   "cell_type": "code",
   "execution_count": 54,
   "id": "0367a187",
   "metadata": {},
   "outputs": [
    {
     "name": "stdout",
     "output_type": "stream",
     "text": [
      "apple\n"
     ]
    }
   ],
   "source": [
    "fruits = [\"apple\", \"banana\", \"cherry\"]\n",
    "for x in fruits:\n",
    "  if x == \"banana\":\n",
    "    break\n",
    "  print(x)"
   ]
  },
  {
   "cell_type": "code",
   "execution_count": null,
   "id": "239b4e94",
   "metadata": {},
   "outputs": [],
   "source": []
  }
 ],
 "metadata": {
  "kernelspec": {
   "display_name": "Python 3 (ipykernel)",
   "language": "python",
   "name": "python3"
  },
  "language_info": {
   "codemirror_mode": {
    "name": "ipython",
    "version": 3
   },
   "file_extension": ".py",
   "mimetype": "text/x-python",
   "name": "python",
   "nbconvert_exporter": "python",
   "pygments_lexer": "ipython3",
   "version": "3.9.13"
  }
 },
 "nbformat": 4,
 "nbformat_minor": 5
}
